{
 "cells": [
  {
   "cell_type": "code",
   "execution_count": 1,
   "id": "bc087a2b-8ad0-4723-af25-f32f0006f400",
   "metadata": {},
   "outputs": [
    {
     "data": {
      "text/html": [
       "<p><image src='ANS_5.png' width='5px' ><image src='ANS_15.png' width='5px' ><image src='ANS_10.png' width='5px' ><image src='ANS_36.png' width='5px' ><image src='ANS_2.png' width='5px' ><image src='ANS_34.png' width='5px' ><image src='ANS_32.png' width='5px' ><image src='ANS_28.png' width='5px' ><image src='ANS_11.png' width='5px' ><image src='ANS_30.png' width='5px' ><image src='ANS_44.png' width='5px' ><image src='ANS_26.png' width='5px' ><image src='ANS_39.png' width='5px' ><image src='ANS_6.png' width='5px' ><image src='ANS_35.png' width='5px' ><image src='ANS_17.png' width='5px' ><image src='ANS_42.png' width='5px' ><image src='ANS_1.png' width='5px' ><image src='ANS_18.png' width='5px' ><image src='ANS_33.png' width='5px' ><image src='ANS_45.png' width='5px' ><image src='ANS_37.png' width='5px' ><image src='ANS_3.png' width='5px' ><image src='ANS_27.png' width='5px' ><image src='ANS_24.png' width='5px' ><image src='ANS_7.png' width='5px' ><image src='ANS_16.png' width='5px' ><image src='ANS_38.png' width='5px' ><image src='ANS_20.png' width='5px' ><image src='ANS_12.png' width='5px' ><image src='ANS_19.png' width='5px' ><image src='ANS_21.png' width='5px' ><image src='ANS_9.png' width='5px' ><image src='ANS_4.png' width='5px' ><image src='ANS_31.png' width='5px' ><image src='ANS_41.png' width='5px' ><image src='ANS_40.png' width='5px' ><image src='ANS_13.png' width='5px' ><image src='ANS_8.png' width='5px' ><image src='ANS_14.png' width='5px' ><image src='ANS_29.png' width='5px' ><image src='ANS_23.png' width='5px' ><image src='ANS_22.png' width='5px' ><image src='ANS_43.png' width='5px' ><image src='ANS_25.png' width='5px' ></p>"
      ],
      "text/plain": [
       "<IPython.core.display.HTML object>"
      ]
     },
     "metadata": {},
     "output_type": "display_data"
    }
   ],
   "source": [
    "# added by PWL to force images to be downloaded before test starts\n",
    "import glob\n",
    "from IPython.display import HTML\n",
    "png_list = glob.glob(\"*.png\")\n",
    "image_list = \"\"\n",
    "for png in png_list:\n",
    "    image_list+=f\"<image src='{png}' width='5px' >\"\n",
    "display(HTML('<p>'+image_list+'</p>'))"
   ]
  },
  {
   "cell_type": "code",
   "execution_count": 2,
   "id": "866721b7-c1c4-46ae-baa5-0c60f447a407",
   "metadata": {},
   "outputs": [],
   "source": [
    "from IPython.display import display, Image, clear_output, HTML\n",
    "import time\n",
    "import random\n",
    "import requests\n",
    "from bs4 import BeautifulSoup\n",
    "import json\n",
    "\n",
    "def send_to_google_form(data_dict, form_url):\n",
    "    ''' Helper function to upload information to a corresponding google form \n",
    "        You are not expected to follow the code within this function!\n",
    "    '''\n",
    "    form_id = form_url[34:90]\n",
    "    view_form_url = f'https://docs.google.com/forms/d/e/{form_id}/viewform'\n",
    "    post_form_url = f'https://docs.google.com/forms/d/e/{form_id}/formResponse'\n",
    "\n",
    "    page = requests.get(view_form_url)\n",
    "    content = BeautifulSoup(page.content, \"html.parser\").find('script', type='text/javascript')\n",
    "    content = content.text[27:-1]\n",
    "    result = json.loads(content)[1][1]\n",
    "    form_dict = {}\n",
    "    \n",
    "    loaded_all = True\n",
    "    for item in result:\n",
    "        if item[1] not in data_dict:\n",
    "            print(f\"Form item {item[1]} not found. Data not uploaded.\")\n",
    "            loaded_all = False\n",
    "            return False\n",
    "        form_dict[f'entry.{item[4][0][0]}'] = data_dict[item[1]]\n",
    "    \n",
    "    post_result = requests.post(post_form_url, data=form_dict)\n",
    "    return post_result.ok"
   ]
  },
  {
   "cell_type": "code",
   "execution_count": 3,
   "id": "fb771da1-0de8-4758-8309-51c0f62b8c0b",
   "metadata": {},
   "outputs": [],
   "source": [
    "def notice():\n",
    "    print(\"Please read:\")\n",
    "    print(\"\")\n",
    "    print(\"we wish to record your response data\")\n",
    "    print(\"to an anonymised public data repository. \")\n",
    "    print(\"Your data will be used for educational teaching purposes\")\n",
    "    print(\"practising data analysis and visualisation.\")\n",
    "    print(\"\")\n",
    "    print(\"Please type yes in the box below if you consent to the upload.\")\n",
    "    result = input(\"> \")\n",
    "    if result == \"yes\":\n",
    "        print(\"Thanks - your data will be uploaded.\")\n",
    "    #send_to_google_form(data_dict, form_url)\n",
    "    else:\n",
    "        print(\"No problem we hope you enjoyed the test.\")\n",
    "    time.sleep(1)\n",
    "    clear_output(wait = False)\n",
    "    return"
   ]
  },
  {
   "cell_type": "code",
   "execution_count": null,
   "id": "175dedae-6d4d-4e97-af15-12b2a35b3bd0",
   "metadata": {},
   "outputs": [
    {
     "name": "stdin",
     "output_type": "stream",
     "text": [
      "Choose which one has more: yellow or blue blue\n"
     ]
    },
    {
     "name": "stdout",
     "output_type": "stream",
     "text": [
      "Correct!\n",
      "You scored 1 point\n"
     ]
    }
   ],
   "source": [
    "aids = []\n",
    "def run_ans(img, answer):\n",
    "    clear_output(wait = False)\n",
    "    score = 0\n",
    "    ans_x = Image(img, width = 400)\n",
    "    display(ans_x)\n",
    "    time.sleep(0.75)\n",
    "    clear_output(wait = False)\n",
    "\n",
    "    ans = input(\"Choose which one has more: yellow or blue\")\n",
    "    if ans == answer:\n",
    "        print(\"Correct!\")\n",
    "        print(\"You scored 1 point\")\n",
    "        score = score + 1\n",
    "        time.sleep(1.5)\n",
    "        clear_output(wait = False)\n",
    "    else:\n",
    "        print(\"Wrong\")\n",
    "        print(\"Sadly, you scored 0\")\n",
    "        score = score\n",
    "        time.sleep(1.5)\n",
    "        clear_output(wait = False)\n",
    "    aids.append(ans)\n",
    "    return score\n",
    "\n",
    "\n",
    "ans_list = []\n",
    "for i in range(1, 46):\n",
    "    ans_list.append(f\"ANS_{i}.png\")\n",
    "\n",
    "answers = [\"yellow\", \"yellow\" , \"blue\", \"yellow\", \"yellow\", \"blue\", \"blue\", \"yellow\", \"blue\", \"yellow\", \"blue\", \"yellow\", \"blue\", \"blue\", \"yellow\", \"yellow\", \"blue\", \"yellow\", \"blue\", \"blue\", \"blue\", \"yellow\", \"yellow\", \"blue\", \"yellow\", \"blue\", \"yellow\", \"yellow\", \"blue\", \"blue\", \"yellow\", \"yellow\", \"blue\", \"blue\",\"yellow\", \"yellow\", \"yellow\", \"blue\", \"yellow\", \"blue\", \"yellow\", \"yellow\", \"blue\", \"yellow\", \"blue\"]\n",
    "id_instructions = \"\"\"\n",
    "\n",
    "    Enter your anonymised ID\n",
    "\n",
    "    To generate an anonymous 4-letter unique user identifier please enter:\n",
    "\n",
    "    - two letters based on the initials (first and last name) of a childhood friend\n",
    "\n",
    "    - two letters based on the initials (first and last name) of a favourite actor / actress\n",
    "\n",
    "    e.g. if your friend was called Charlie Brown and film star was Tom Cruise\n",
    "\n",
    "    then your unique identifer would be CBTC\n",
    "    \n",
    "    \"\"\"\n",
    "\n",
    "print(id_instructions)\n",
    "\n",
    "user_id = input(\"> \")\n",
    "\n",
    "print(\"User entered id:\", user_id)\n",
    "\n",
    "gender = input(\"What's your gender?(M/F)\")\n",
    "\n",
    "def run_ans_test(list_1, list_2):\n",
    "    notice()\n",
    "\n",
    "\n",
    "    print(\"Welcome to ANS Test\")\n",
    "    time.sleep(2)\n",
    "\n",
    "    print(\"Choose which one has more colour\")\n",
    "    time.sleep(2)\n",
    "    \n",
    "    total_score = 0\n",
    "    n = len(list_1)\n",
    "    for i in range(n):\n",
    "        ans_q = ans_list[i]\n",
    "        ans_a = answers[i]\n",
    "        scores = run_ans(ans_q, ans_a)\n",
    "        time.sleep(1.5)\n",
    "        total_score += scores\n",
    "        \n",
    "    print(f\"Well done! Your total score is {total_score}\")\n",
    "\n",
    "    return total_score\n",
    "\n",
    "\n",
    "\n",
    "x = run_ans_test(ans_list, answers)\n",
    "\n",
    "data_dict = {\n",
    "        'user_id': user_id,\n",
    "        'score': x,\n",
    "        'gender': gender,\n",
    "    }\n",
    "             \n",
    "\n",
    "    # Add questions to the dictionary\n",
    "for i in range(1, 46):\n",
    "    key = f'question {i}'\n",
    "    value = aids[i - 1]\n",
    "    data_dict[key] = value\n",
    "\n",
    "    \n",
    "\n",
    "form_url = 'https://docs.google.com/forms/d/e/1FAIpQLSdHnH-RLDf3xTVZxC2FYAhZxxAIcrjxE2T9OGlzt_YhP1QMyA/viewform?usp=sf_link'\n",
    "send_to_google_form(data_dict, form_url)"
   ]
  },
  {
   "cell_type": "code",
   "execution_count": null,
   "id": "b799ba96-a064-4481-9ca7-bdb6dcb53fa9",
   "metadata": {},
   "outputs": [],
   "source": []
  },
  {
   "cell_type": "code",
   "execution_count": null,
   "id": "962187ef-ba76-4f6b-928d-cc7545c207f3",
   "metadata": {},
   "outputs": [],
   "source": []
  },
  {
   "cell_type": "code",
   "execution_count": null,
   "id": "faa4534d-55aa-41fa-ba70-48aa46a6a4b5",
   "metadata": {},
   "outputs": [],
   "source": []
  }
 ],
 "metadata": {
  "kernelspec": {
   "display_name": "Python 3 (ipykernel)",
   "language": "python",
   "name": "python3"
  },
  "language_info": {
   "codemirror_mode": {
    "name": "ipython",
    "version": 3
   },
   "file_extension": ".py",
   "mimetype": "text/x-python",
   "name": "python",
   "nbconvert_exporter": "python",
   "pygments_lexer": "ipython3",
   "version": "3.10.10"
  }
 },
 "nbformat": 4,
 "nbformat_minor": 5
}
